{
 "cells": [
  {
   "cell_type": "code",
   "execution_count": 1,
   "metadata": {},
   "outputs": [],
   "source": [
    "%load_ext autoreload\n",
    "%autoreload 2"
   ]
  },
  {
   "cell_type": "markdown",
   "metadata": {},
   "source": [
    "## Read data"
   ]
  },
  {
   "cell_type": "code",
   "execution_count": 2,
   "metadata": {},
   "outputs": [],
   "source": [
    "import pandas as pd\n",
    "import torch"
   ]
  },
  {
   "cell_type": "code",
   "execution_count": 3,
   "metadata": {},
   "outputs": [
    {
     "data": {
      "text/html": [
       "<div>\n",
       "<style scoped>\n",
       "    .dataframe tbody tr th:only-of-type {\n",
       "        vertical-align: middle;\n",
       "    }\n",
       "\n",
       "    .dataframe tbody tr th {\n",
       "        vertical-align: top;\n",
       "    }\n",
       "\n",
       "    .dataframe thead th {\n",
       "        text-align: right;\n",
       "    }\n",
       "</style>\n",
       "<table border=\"1\" class=\"dataframe\">\n",
       "  <thead>\n",
       "    <tr style=\"text-align: right;\">\n",
       "      <th></th>\n",
       "      <th>Time</th>\n",
       "      <th>CPU edge average (1)</th>\n",
       "      <th>CPU edge average (2)</th>\n",
       "      <th>CPU server average</th>\n",
       "      <th>BW edge (1)</th>\n",
       "      <th>BW edge (1).1</th>\n",
       "      <th>BW server (1)</th>\n",
       "      <th>BW server (2)</th>\n",
       "      <th># edge device</th>\n",
       "      <th># links (1)</th>\n",
       "      <th># links (2)</th>\n",
       "      <th># VNF Density current</th>\n",
       "      <th># VNF Receive current</th>\n",
       "      <th># VNF Density future</th>\n",
       "      <th># VNF Receive future</th>\n",
       "    </tr>\n",
       "  </thead>\n",
       "  <tbody>\n",
       "    <tr>\n",
       "      <th>0</th>\n",
       "      <td>0.0</td>\n",
       "      <td>0.000</td>\n",
       "      <td>0.000000</td>\n",
       "      <td>0.000</td>\n",
       "      <td>0.000000</td>\n",
       "      <td>0.000000</td>\n",
       "      <td>0.000000</td>\n",
       "      <td>0.000000</td>\n",
       "      <td>0.0</td>\n",
       "      <td>0.0</td>\n",
       "      <td>0.0</td>\n",
       "      <td>0.0</td>\n",
       "      <td>0.0</td>\n",
       "      <td>0.0</td>\n",
       "      <td>4.0</td>\n",
       "    </tr>\n",
       "    <tr>\n",
       "      <th>1</th>\n",
       "      <td>2.0</td>\n",
       "      <td>0.328</td>\n",
       "      <td>24.600000</td>\n",
       "      <td>0.080</td>\n",
       "      <td>0.008000</td>\n",
       "      <td>0.600000</td>\n",
       "      <td>2.400000</td>\n",
       "      <td>2.400000</td>\n",
       "      <td>4.0</td>\n",
       "      <td>1.0</td>\n",
       "      <td>1.0</td>\n",
       "      <td>0.0</td>\n",
       "      <td>4.0</td>\n",
       "      <td>0.0</td>\n",
       "      <td>14.0</td>\n",
       "    </tr>\n",
       "    <tr>\n",
       "      <th>2</th>\n",
       "      <td>4.0</td>\n",
       "      <td>1.148</td>\n",
       "      <td>24.600000</td>\n",
       "      <td>0.280</td>\n",
       "      <td>0.028000</td>\n",
       "      <td>0.600000</td>\n",
       "      <td>8.400000</td>\n",
       "      <td>8.400000</td>\n",
       "      <td>14.0</td>\n",
       "      <td>1.0</td>\n",
       "      <td>1.0</td>\n",
       "      <td>0.0</td>\n",
       "      <td>14.0</td>\n",
       "      <td>0.0</td>\n",
       "      <td>73.0</td>\n",
       "    </tr>\n",
       "    <tr>\n",
       "      <th>3</th>\n",
       "      <td>6.0</td>\n",
       "      <td>5.986</td>\n",
       "      <td>26.026087</td>\n",
       "      <td>1.460</td>\n",
       "      <td>0.146000</td>\n",
       "      <td>0.634783</td>\n",
       "      <td>14.600000</td>\n",
       "      <td>10.950000</td>\n",
       "      <td>69.0</td>\n",
       "      <td>3.0</td>\n",
       "      <td>4.0</td>\n",
       "      <td>0.0</td>\n",
       "      <td>73.0</td>\n",
       "      <td>880.0</td>\n",
       "      <td>1473.0</td>\n",
       "    </tr>\n",
       "    <tr>\n",
       "      <th>4</th>\n",
       "      <td>8.0</td>\n",
       "      <td>79.746</td>\n",
       "      <td>79.746000</td>\n",
       "      <td>52.598</td>\n",
       "      <td>53.505633</td>\n",
       "      <td>53.505633</td>\n",
       "      <td>947.836316</td>\n",
       "      <td>608.008333</td>\n",
       "      <td>300.0</td>\n",
       "      <td>19.0</td>\n",
       "      <td>30.0</td>\n",
       "      <td>880.0</td>\n",
       "      <td>1473.0</td>\n",
       "      <td>1492.0</td>\n",
       "      <td>1847.0</td>\n",
       "    </tr>\n",
       "  </tbody>\n",
       "</table>\n",
       "</div>"
      ],
      "text/plain": [
       "   Time   CPU edge average (1)  CPU edge average (2)  CPU server average  \\\n",
       "0    0.0                 0.000              0.000000               0.000   \n",
       "1    2.0                 0.328             24.600000               0.080   \n",
       "2    4.0                 1.148             24.600000               0.280   \n",
       "3    6.0                 5.986             26.026087               1.460   \n",
       "4    8.0                79.746             79.746000              52.598   \n",
       "\n",
       "   BW edge (1)  BW edge (1).1  BW server (1)  BW server (2)  # edge device  \\\n",
       "0     0.000000       0.000000       0.000000       0.000000            0.0   \n",
       "1     0.008000       0.600000       2.400000       2.400000            4.0   \n",
       "2     0.028000       0.600000       8.400000       8.400000           14.0   \n",
       "3     0.146000       0.634783      14.600000      10.950000           69.0   \n",
       "4    53.505633      53.505633     947.836316     608.008333          300.0   \n",
       "\n",
       "   # links (1)  # links (2)  # VNF Density current  # VNF Receive current  \\\n",
       "0          0.0          0.0                    0.0                    0.0   \n",
       "1          1.0          1.0                    0.0                    4.0   \n",
       "2          1.0          1.0                    0.0                   14.0   \n",
       "3          3.0          4.0                    0.0                   73.0   \n",
       "4         19.0         30.0                  880.0                 1473.0   \n",
       "\n",
       "   # VNF Density future  # VNF Receive future  \n",
       "0                   0.0                   4.0  \n",
       "1                   0.0                  14.0  \n",
       "2                   0.0                  73.0  \n",
       "3                 880.0                1473.0  \n",
       "4                1492.0                1847.0  "
      ]
     },
     "execution_count": 3,
     "metadata": {},
     "output_type": "execute_result"
    }
   ],
   "source": [
    "raw_data = pd.read_excel('./data/24h-2-new.xlsx')\n",
    "raw_data.head()"
   ]
  },
  {
   "cell_type": "code",
   "execution_count": 4,
   "metadata": {},
   "outputs": [
    {
     "data": {
      "text/html": [
       "<div>\n",
       "<style scoped>\n",
       "    .dataframe tbody tr th:only-of-type {\n",
       "        vertical-align: middle;\n",
       "    }\n",
       "\n",
       "    .dataframe tbody tr th {\n",
       "        vertical-align: top;\n",
       "    }\n",
       "\n",
       "    .dataframe thead th {\n",
       "        text-align: right;\n",
       "    }\n",
       "</style>\n",
       "<table border=\"1\" class=\"dataframe\">\n",
       "  <thead>\n",
       "    <tr style=\"text-align: right;\">\n",
       "      <th></th>\n",
       "      <th>Time</th>\n",
       "      <th>CPU edge average (1)</th>\n",
       "      <th>CPU edge average (2)</th>\n",
       "      <th>CPU server average</th>\n",
       "      <th>BW edge (1)</th>\n",
       "      <th>BW edge (1).1</th>\n",
       "      <th>BW server (1)</th>\n",
       "      <th>BW server (2)</th>\n",
       "      <th># edge device</th>\n",
       "      <th># links (1)</th>\n",
       "      <th># links (2)</th>\n",
       "      <th># VNF Receive current</th>\n",
       "      <th># VNF Density future</th>\n",
       "      <th># VNF Receive future</th>\n",
       "    </tr>\n",
       "  </thead>\n",
       "  <tbody>\n",
       "    <tr>\n",
       "      <th>0</th>\n",
       "      <td>0.0</td>\n",
       "      <td>0.000</td>\n",
       "      <td>0.000000</td>\n",
       "      <td>0.000</td>\n",
       "      <td>0.000000</td>\n",
       "      <td>0.000000</td>\n",
       "      <td>0.000000</td>\n",
       "      <td>0.000000</td>\n",
       "      <td>0.0</td>\n",
       "      <td>0.0</td>\n",
       "      <td>0.0</td>\n",
       "      <td>0.0</td>\n",
       "      <td>0.0</td>\n",
       "      <td>4.0</td>\n",
       "    </tr>\n",
       "    <tr>\n",
       "      <th>1</th>\n",
       "      <td>2.0</td>\n",
       "      <td>0.328</td>\n",
       "      <td>24.600000</td>\n",
       "      <td>0.080</td>\n",
       "      <td>0.008000</td>\n",
       "      <td>0.600000</td>\n",
       "      <td>2.400000</td>\n",
       "      <td>2.400000</td>\n",
       "      <td>4.0</td>\n",
       "      <td>1.0</td>\n",
       "      <td>1.0</td>\n",
       "      <td>4.0</td>\n",
       "      <td>0.0</td>\n",
       "      <td>14.0</td>\n",
       "    </tr>\n",
       "    <tr>\n",
       "      <th>2</th>\n",
       "      <td>4.0</td>\n",
       "      <td>1.148</td>\n",
       "      <td>24.600000</td>\n",
       "      <td>0.280</td>\n",
       "      <td>0.028000</td>\n",
       "      <td>0.600000</td>\n",
       "      <td>8.400000</td>\n",
       "      <td>8.400000</td>\n",
       "      <td>14.0</td>\n",
       "      <td>1.0</td>\n",
       "      <td>1.0</td>\n",
       "      <td>14.0</td>\n",
       "      <td>0.0</td>\n",
       "      <td>73.0</td>\n",
       "    </tr>\n",
       "    <tr>\n",
       "      <th>3</th>\n",
       "      <td>6.0</td>\n",
       "      <td>5.986</td>\n",
       "      <td>26.026087</td>\n",
       "      <td>1.460</td>\n",
       "      <td>0.146000</td>\n",
       "      <td>0.634783</td>\n",
       "      <td>14.600000</td>\n",
       "      <td>10.950000</td>\n",
       "      <td>69.0</td>\n",
       "      <td>3.0</td>\n",
       "      <td>4.0</td>\n",
       "      <td>73.0</td>\n",
       "      <td>880.0</td>\n",
       "      <td>1473.0</td>\n",
       "    </tr>\n",
       "    <tr>\n",
       "      <th>4</th>\n",
       "      <td>8.0</td>\n",
       "      <td>79.746</td>\n",
       "      <td>79.746000</td>\n",
       "      <td>52.598</td>\n",
       "      <td>53.505633</td>\n",
       "      <td>53.505633</td>\n",
       "      <td>947.836316</td>\n",
       "      <td>608.008333</td>\n",
       "      <td>300.0</td>\n",
       "      <td>19.0</td>\n",
       "      <td>30.0</td>\n",
       "      <td>1473.0</td>\n",
       "      <td>1492.0</td>\n",
       "      <td>1847.0</td>\n",
       "    </tr>\n",
       "  </tbody>\n",
       "</table>\n",
       "</div>"
      ],
      "text/plain": [
       "   Time   CPU edge average (1)  CPU edge average (2)  CPU server average  \\\n",
       "0    0.0                 0.000              0.000000               0.000   \n",
       "1    2.0                 0.328             24.600000               0.080   \n",
       "2    4.0                 1.148             24.600000               0.280   \n",
       "3    6.0                 5.986             26.026087               1.460   \n",
       "4    8.0                79.746             79.746000              52.598   \n",
       "\n",
       "   BW edge (1)  BW edge (1).1  BW server (1)  BW server (2)  # edge device  \\\n",
       "0     0.000000       0.000000       0.000000       0.000000            0.0   \n",
       "1     0.008000       0.600000       2.400000       2.400000            4.0   \n",
       "2     0.028000       0.600000       8.400000       8.400000           14.0   \n",
       "3     0.146000       0.634783      14.600000      10.950000           69.0   \n",
       "4    53.505633      53.505633     947.836316     608.008333          300.0   \n",
       "\n",
       "   # links (1)  # links (2)  # VNF Receive current  # VNF Density future  \\\n",
       "0          0.0          0.0                    0.0                   0.0   \n",
       "1          1.0          1.0                    4.0                   0.0   \n",
       "2          1.0          1.0                   14.0                   0.0   \n",
       "3          3.0          4.0                   73.0                 880.0   \n",
       "4         19.0         30.0                 1473.0                1492.0   \n",
       "\n",
       "   # VNF Receive future  \n",
       "0                   4.0  \n",
       "1                  14.0  \n",
       "2                  73.0  \n",
       "3                1473.0  \n",
       "4                1847.0  "
      ]
     },
     "execution_count": 4,
     "metadata": {},
     "output_type": "execute_result"
    }
   ],
   "source": [
    "from sklearn.model_selection import train_test_split\n",
    "X_train, X_test, Y_train, Y_test = train_test_split(\n",
    "    raw_data.drop(columns='# VNF Density current'),\n",
    "    raw_data['# VNF Density current'],\n",
    "    test_size=0.25, random_state=42, shuffle=False)\n",
    "\n",
    "X_train.head()"
   ]
  },
  {
   "cell_type": "code",
   "execution_count": 5,
   "metadata": {},
   "outputs": [
    {
     "data": {
      "text/plain": [
       "tensor([0., 0., 0., 0., 0., 0., 0., 0., 0., 0., 0., 0., 0., 4.])"
      ]
     },
     "execution_count": 5,
     "metadata": {},
     "output_type": "execute_result"
    }
   ],
   "source": [
    "torch.Tensor(X_train.iloc[0].values)"
   ]
  },
  {
   "cell_type": "code",
   "execution_count": 6,
   "metadata": {},
   "outputs": [
    {
     "data": {
      "text/plain": [
       "Index(['Time ', 'CPU edge average (1)', 'CPU edge average (2)',\n",
       "       'CPU server average', 'BW edge (1)', 'BW edge (1).1', 'BW server (1)',\n",
       "       'BW server (2)', '# edge device', '# links (1)', '# links (2)',\n",
       "       '# VNF Receive current', '# VNF Density future',\n",
       "       '# VNF Receive future'],\n",
       "      dtype='object')"
      ]
     },
     "execution_count": 6,
     "metadata": {},
     "output_type": "execute_result"
    }
   ],
   "source": [
    "X_train.columns"
   ]
  },
  {
   "cell_type": "markdown",
   "metadata": {},
   "source": [
    "## Model"
   ]
  },
  {
   "cell_type": "code",
   "execution_count": 7,
   "metadata": {},
   "outputs": [],
   "source": [
    "seq_len = 4"
   ]
  },
  {
   "cell_type": "code",
   "execution_count": 8,
   "metadata": {},
   "outputs": [],
   "source": [
    "from fil_lstm import FILDataset\n",
    "train_dataset = FILDataset(X_train, Y_train, sequence_length=seq_len)\n",
    "test_dataset = FILDataset(X_test, Y_test, sequence_length=seq_len)"
   ]
  },
  {
   "cell_type": "code",
   "execution_count": 9,
   "metadata": {},
   "outputs": [
    {
     "name": "stderr",
     "output_type": "stream",
     "text": [
      "/Users/nghiadanh/miniforge3/envs/tf_m1/lib/python3.8/site-packages/torch/nn/modules/rnn.py:62: UserWarning: dropout option adds dropout after all but last recurrent layer, so non-zero dropout expects num_layers greater than 1, but got dropout=0.5 and num_layers=1\n",
      "  warnings.warn(\"dropout option adds dropout after all but last \"\n"
     ]
    }
   ],
   "source": [
    "from fil_lstm import Model\n",
    "model = Model(input_size=11, hidden_size=100, num_layers=1, dropout=0.5, sequence_length=seq_len)"
   ]
  },
  {
   "cell_type": "code",
   "execution_count": 10,
   "metadata": {},
   "outputs": [
    {
     "name": "stdout",
     "output_type": "stream",
     "text": [
      "Epoch: 0 \t Train loss:  (946.4218139920487, -1.0001327636483937) \t Test loss:  (1004.8287789469408, -1.136604124800408)\n",
      "Epoch: 5 \t Train loss:  (154.68881943881723, 0.9465672836065955) \t Test loss:  (172.85181514812044, 0.9367751482687623)\n",
      "Epoch: 10 \t Train loss:  (42.78847695075889, 0.9959116976148323) \t Test loss:  (46.8892035772562, 0.9953475081218646)\n",
      "Epoch: 15 \t Train loss:  (25.745596796239376, 0.998519885565264) \t Test loss:  (26.96645164199688, 0.9984611810822193)\n",
      "Epoch: 20 \t Train loss:  (18.743583700339716, 0.9992154968737753) \t Test loss:  (19.889588573989613, 0.9991628726271189)\n",
      "Epoch: 25 \t Train loss:  (16.2613269942903, 0.9994095252335595) \t Test loss:  (17.11301955332319, 0.9993802833001979)\n",
      "Epoch: 30 \t Train loss:  (15.134326423852201, 0.9994885354190942) \t Test loss:  (15.777161927957023, 0.9994732583182052)\n",
      "Epoch: 35 \t Train loss:  (14.503015664988652, 0.9995303157137317) \t Test loss:  (15.03368258074104, 0.9995217327460987)\n",
      "Epoch: 40 \t Train loss:  (13.770709169475385, 0.9995765501243895) \t Test loss:  (14.285963219789819, 0.9995681241093894)\n",
      "Epoch: 45 \t Train loss:  (13.246547033124566, 0.9996081726526813) \t Test loss:  (13.745326132126353, 0.9996001933395698)\n",
      "Epoch: 50 \t Train loss:  (13.026549005930399, 0.9996210794928816) \t Test loss:  (13.502008924419995, 0.9996142226961413)\n",
      "Epoch: 55 \t Train loss:  (12.904941150718805, 0.9996281211559661) \t Test loss:  (13.351044780410094, 0.9996228011428225)\n",
      "Epoch: 60 \t Train loss:  (12.831241057291088, 0.9996323566808368) \t Test loss:  (13.252809046833654, 0.9996283314614541)\n",
      "Epoch: 65 \t Train loss:  (12.788431327965057, 0.9996348057613985) \t Test loss:  (13.195401540922196, 0.9996315443888958)\n",
      "Epoch: 70 \t Train loss:  (12.763071577553344, 0.9996362527046146) \t Test loss:  (13.163037793945733, 0.9996333495852405)\n",
      "Epoch: 75 \t Train loss:  (12.747931817553779, 0.9996371151387535) \t Test loss:  (13.144621215331055, 0.9996343748463461)\n",
      "Epoch: 80 \t Train loss:  (12.738875977951926, 0.9996376305466188) \t Test loss:  (13.133896491922984, 0.999634971167525)\n",
      "Epoch: 85 \t Train loss:  (12.733513439029824, 0.9996379355532953) \t Test loss:  (13.12763819746548, 0.999635319039027)\n",
      "Epoch: 90 \t Train loss:  (12.730618574601635, 0.9996381001381797) \t Test loss:  (13.124232097141853, 0.9996355082610774)\n",
      "Epoch: 95 \t Train loss:  (12.729386964047748, 0.9996381701810877) \t Test loss:  (13.122650808178904, 0.9996355960481754)\n"
     ]
    }
   ],
   "source": [
    "model.train(train_dataset, test_dataset, epochs=100, batch_size=20, lr=0.001)"
   ]
  },
  {
   "cell_type": "code",
   "execution_count": 11,
   "metadata": {},
   "outputs": [
    {
     "data": {
      "image/png": "[encoded data removed]",
      "text/plain": [
       "<Figure size 432x288 with 1 Axes>"
      ]
     },
     "metadata": {
      "needs_background": "light"
     },
     "output_type": "display_data"
    }
   ],
   "source": [
    "import matplotlib.pyplot as plt\n",
    "import numpy as np\n",
    "plt.plot(np.array(model.losses)[:,0], label='train_loss')\n",
    "plt.plot(np.array(model.losses)[:,1], label='test_loss')\n",
    "plt.legend()\n",
    "plt.show()"
   ]
  },
  {
   "cell_type": "code",
   "execution_count": 12,
   "metadata": {},
   "outputs": [
    {
     "data": {
      "text/plain": [
       "(20, 2)"
      ]
     },
     "execution_count": 12,
     "metadata": {},
     "output_type": "execute_result"
    }
   ],
   "source": [
    "np.array(model.losses).shape"
   ]
  },
  {
   "cell_type": "code",
   "execution_count": 13,
   "metadata": {},
   "outputs": [],
   "source": [
    "# torch.save(model.state_dict(), './model/best_2')\n",
    "# torch.save(model, './model/best_2_full')"
   ]
  },
  {
   "cell_type": "code",
   "execution_count": 14,
   "metadata": {},
   "outputs": [],
   "source": [
    "# Save as TorchScript\n",
    "x_test = torch.zeros((1,seq_len,11))\n",
    "traced_model = torch.jit.trace(model, (x_test, model.init_state()))\n",
    "traced_model.save('./model/torch_script/model_script_2.zip')"
   ]
  },
  {
   "cell_type": "code",
   "execution_count": 15,
   "metadata": {},
   "outputs": [
    {
     "data": {
      "text/plain": [
       "'def forward(self,\\n    x: Tensor,\\n    prev_state: Tuple[Tensor, Tensor]) -> Tuple[Tensor, Tuple[Tensor, Tensor]]:\\n  relu = self.relu\\n  fc = self.fc\\n  relu1 = self.relu1\\n  fc1 = self.fc1\\n  lstm = self.lstm\\n  hx, hx0, = prev_state\\n  _0, _1, _2, = (lstm).forward(x, hx, hx0, )\\n  _3 = (relu1).forward((fc1).forward(_0, ), )\\n  _4 = torch.slice((relu).forward((fc).forward(_3, ), ), 0, 0, 9223372036854775807)\\n  _5 = torch.slice(torch.select(_4, 1, -1), 1, 0, 9223372036854775807)\\n  return (_5, (_1, _2))\\n'"
      ]
     },
     "execution_count": 15,
     "metadata": {},
     "output_type": "execute_result"
    }
   ],
   "source": [
    "traced_model.code"
   ]
  },
  {
   "cell_type": "code",
   "execution_count": 16,
   "metadata": {},
   "outputs": [],
   "source": [
    "loaded_model = torch.load('./model/best_2_full')"
   ]
  },
  {
   "cell_type": "code",
   "execution_count": 17,
   "metadata": {},
   "outputs": [
    {
     "data": {
      "text/plain": [
       "(11.491956468615886, 0.9997050982287355)"
      ]
     },
     "execution_count": 17,
     "metadata": {},
     "output_type": "execute_result"
    }
   ],
   "source": [
    "loaded_model.evaluate(train_dataset, batch_size=len(X_train))"
   ]
  },
  {
   "cell_type": "code",
   "execution_count": 18,
   "metadata": {},
   "outputs": [
    {
     "data": {
      "text/plain": [
       "(11.586650638664347, 0.9997159101093859)"
      ]
     },
     "execution_count": 18,
     "metadata": {},
     "output_type": "execute_result"
    }
   ],
   "source": [
    "loaded_model.evaluate(test_dataset, batch_size=len(X_test))"
   ]
  },
  {
   "cell_type": "code",
   "execution_count": null,
   "metadata": {},
   "outputs": [],
   "source": []
  }
 ],
 "metadata": {
  "interpreter": {
   "hash": "d22b36ba7308b57d7071dbf0821a724f1e8bebca6caf90a2aaed5b366d8a6926"
  },
  "kernelspec": {
   "display_name": "Python 3.8.10 ('tf_m1')",
   "language": "python",
   "name": "python3"
  },
  "language_info": {
   "codemirror_mode": {
    "name": "ipython",
    "version": 3
   },
   "file_extension": ".py",
   "mimetype": "text/x-python",
   "name": "python",
   "nbconvert_exporter": "python",
   "pygments_lexer": "ipython3",
   "version": "3.8.10"
  },
  "orig_nbformat": 4
 },
 "nbformat": 4,
 "nbformat_minor": 2
}
