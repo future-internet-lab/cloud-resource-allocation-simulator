{
 "cells": [
  {
   "cell_type": "code",
   "execution_count": 1,
   "metadata": {},
   "outputs": [],
   "source": [
    "%load_ext autoreload\n",
    "%autoreload 2"
   ]
  },
  {
   "cell_type": "markdown",
   "metadata": {},
   "source": [
    "## Read data"
   ]
  },
  {
   "cell_type": "code",
   "execution_count": 2,
   "metadata": {},
   "outputs": [],
   "source": [
    "import pandas as pd\n",
    "import torch"
   ]
  },
  {
   "cell_type": "code",
   "execution_count": 3,
   "metadata": {},
   "outputs": [
    {
     "data": {
      "text/html": [
       "<div>\n",
       "<style scoped>\n",
       "    .dataframe tbody tr th:only-of-type {\n",
       "        vertical-align: middle;\n",
       "    }\n",
       "\n",
       "    .dataframe tbody tr th {\n",
       "        vertical-align: top;\n",
       "    }\n",
       "\n",
       "    .dataframe thead th {\n",
       "        text-align: right;\n",
       "    }\n",
       "</style>\n",
       "<table border=\"1\" class=\"dataframe\">\n",
       "  <thead>\n",
       "    <tr style=\"text-align: right;\">\n",
       "      <th></th>\n",
       "      <th>Time</th>\n",
       "      <th>CPU edge average (1)</th>\n",
       "      <th>CPU edge average (2)</th>\n",
       "      <th>CPU server average</th>\n",
       "      <th>BW edge (1)</th>\n",
       "      <th>BW edge (1).1</th>\n",
       "      <th>BW server (1)</th>\n",
       "      <th>BW server (2)</th>\n",
       "      <th># edge device</th>\n",
       "      <th># links (1)</th>\n",
       "      <th># links (2)</th>\n",
       "      <th># VNF Density current</th>\n",
       "      <th># VNF Receive current</th>\n",
       "      <th># VNF Density future</th>\n",
       "      <th># VNF Receive future</th>\n",
       "    </tr>\n",
       "  </thead>\n",
       "  <tbody>\n",
       "    <tr>\n",
       "      <th>0</th>\n",
       "      <td>0.0</td>\n",
       "      <td>0.000</td>\n",
       "      <td>0.0</td>\n",
       "      <td>0.00</td>\n",
       "      <td>0.000</td>\n",
       "      <td>0.0</td>\n",
       "      <td>0.0</td>\n",
       "      <td>0.0</td>\n",
       "      <td>0.0</td>\n",
       "      <td>0.0</td>\n",
       "      <td>0.0</td>\n",
       "      <td>0.0</td>\n",
       "      <td>0.0</td>\n",
       "      <td>0.0</td>\n",
       "      <td>2.0</td>\n",
       "    </tr>\n",
       "    <tr>\n",
       "      <th>1</th>\n",
       "      <td>0.5</td>\n",
       "      <td>0.164</td>\n",
       "      <td>24.6</td>\n",
       "      <td>0.04</td>\n",
       "      <td>0.004</td>\n",
       "      <td>0.6</td>\n",
       "      <td>1.2</td>\n",
       "      <td>1.2</td>\n",
       "      <td>2.0</td>\n",
       "      <td>1.0</td>\n",
       "      <td>1.0</td>\n",
       "      <td>0.0</td>\n",
       "      <td>2.0</td>\n",
       "      <td>0.0</td>\n",
       "      <td>3.0</td>\n",
       "    </tr>\n",
       "    <tr>\n",
       "      <th>2</th>\n",
       "      <td>1.0</td>\n",
       "      <td>0.246</td>\n",
       "      <td>24.6</td>\n",
       "      <td>0.06</td>\n",
       "      <td>0.006</td>\n",
       "      <td>0.6</td>\n",
       "      <td>1.8</td>\n",
       "      <td>1.8</td>\n",
       "      <td>3.0</td>\n",
       "      <td>1.0</td>\n",
       "      <td>1.0</td>\n",
       "      <td>0.0</td>\n",
       "      <td>3.0</td>\n",
       "      <td>0.0</td>\n",
       "      <td>3.0</td>\n",
       "    </tr>\n",
       "    <tr>\n",
       "      <th>3</th>\n",
       "      <td>1.5</td>\n",
       "      <td>0.246</td>\n",
       "      <td>24.6</td>\n",
       "      <td>0.06</td>\n",
       "      <td>0.006</td>\n",
       "      <td>0.6</td>\n",
       "      <td>1.8</td>\n",
       "      <td>1.8</td>\n",
       "      <td>3.0</td>\n",
       "      <td>1.0</td>\n",
       "      <td>1.0</td>\n",
       "      <td>0.0</td>\n",
       "      <td>3.0</td>\n",
       "      <td>0.0</td>\n",
       "      <td>2.0</td>\n",
       "    </tr>\n",
       "    <tr>\n",
       "      <th>4</th>\n",
       "      <td>2.0</td>\n",
       "      <td>0.164</td>\n",
       "      <td>24.6</td>\n",
       "      <td>0.04</td>\n",
       "      <td>0.004</td>\n",
       "      <td>0.6</td>\n",
       "      <td>1.2</td>\n",
       "      <td>1.2</td>\n",
       "      <td>2.0</td>\n",
       "      <td>1.0</td>\n",
       "      <td>1.0</td>\n",
       "      <td>0.0</td>\n",
       "      <td>2.0</td>\n",
       "      <td>0.0</td>\n",
       "      <td>5.0</td>\n",
       "    </tr>\n",
       "  </tbody>\n",
       "</table>\n",
       "</div>"
      ],
      "text/plain": [
       "   Time   CPU edge average (1)  CPU edge average (2)  CPU server average  \\\n",
       "0    0.0                 0.000                   0.0                0.00   \n",
       "1    0.5                 0.164                  24.6                0.04   \n",
       "2    1.0                 0.246                  24.6                0.06   \n",
       "3    1.5                 0.246                  24.6                0.06   \n",
       "4    2.0                 0.164                  24.6                0.04   \n",
       "\n",
       "   BW edge (1)  BW edge (1).1  BW server (1)  BW server (2)  # edge device  \\\n",
       "0        0.000            0.0            0.0            0.0            0.0   \n",
       "1        0.004            0.6            1.2            1.2            2.0   \n",
       "2        0.006            0.6            1.8            1.8            3.0   \n",
       "3        0.006            0.6            1.8            1.8            3.0   \n",
       "4        0.004            0.6            1.2            1.2            2.0   \n",
       "\n",
       "   # links (1)  # links (2)  # VNF Density current  # VNF Receive current  \\\n",
       "0          0.0          0.0                    0.0                    0.0   \n",
       "1          1.0          1.0                    0.0                    2.0   \n",
       "2          1.0          1.0                    0.0                    3.0   \n",
       "3          1.0          1.0                    0.0                    3.0   \n",
       "4          1.0          1.0                    0.0                    2.0   \n",
       "\n",
       "   # VNF Density future  # VNF Receive future  \n",
       "0                   0.0                   2.0  \n",
       "1                   0.0                   3.0  \n",
       "2                   0.0                   3.0  \n",
       "3                   0.0                   2.0  \n",
       "4                   0.0                   5.0  "
      ]
     },
     "execution_count": 3,
     "metadata": {},
     "output_type": "execute_result"
    }
   ],
   "source": [
    "raw_data = pd.read_excel('./data/24h_new.xlsx')\n",
    "raw_data.head()"
   ]
  },
  {
   "cell_type": "code",
   "execution_count": 4,
   "metadata": {},
   "outputs": [
    {
     "data": {
      "text/html": [
       "<div>\n",
       "<style scoped>\n",
       "    .dataframe tbody tr th:only-of-type {\n",
       "        vertical-align: middle;\n",
       "    }\n",
       "\n",
       "    .dataframe tbody tr th {\n",
       "        vertical-align: top;\n",
       "    }\n",
       "\n",
       "    .dataframe thead th {\n",
       "        text-align: right;\n",
       "    }\n",
       "</style>\n",
       "<table border=\"1\" class=\"dataframe\">\n",
       "  <thead>\n",
       "    <tr style=\"text-align: right;\">\n",
       "      <th></th>\n",
       "      <th>Time</th>\n",
       "      <th>CPU edge average (1)</th>\n",
       "      <th>CPU edge average (2)</th>\n",
       "      <th>CPU server average</th>\n",
       "      <th>BW edge (1)</th>\n",
       "      <th>BW edge (1).1</th>\n",
       "      <th>BW server (1)</th>\n",
       "      <th>BW server (2)</th>\n",
       "      <th># edge device</th>\n",
       "      <th># links (1)</th>\n",
       "      <th># links (2)</th>\n",
       "      <th># VNF Receive current</th>\n",
       "      <th># VNF Density future</th>\n",
       "      <th># VNF Receive future</th>\n",
       "    </tr>\n",
       "  </thead>\n",
       "  <tbody>\n",
       "    <tr>\n",
       "      <th>0</th>\n",
       "      <td>0.0</td>\n",
       "      <td>0.000</td>\n",
       "      <td>0.0</td>\n",
       "      <td>0.00</td>\n",
       "      <td>0.000</td>\n",
       "      <td>0.0</td>\n",
       "      <td>0.0</td>\n",
       "      <td>0.0</td>\n",
       "      <td>0.0</td>\n",
       "      <td>0.0</td>\n",
       "      <td>0.0</td>\n",
       "      <td>0.0</td>\n",
       "      <td>0.0</td>\n",
       "      <td>2.0</td>\n",
       "    </tr>\n",
       "    <tr>\n",
       "      <th>1</th>\n",
       "      <td>0.5</td>\n",
       "      <td>0.164</td>\n",
       "      <td>24.6</td>\n",
       "      <td>0.04</td>\n",
       "      <td>0.004</td>\n",
       "      <td>0.6</td>\n",
       "      <td>1.2</td>\n",
       "      <td>1.2</td>\n",
       "      <td>2.0</td>\n",
       "      <td>1.0</td>\n",
       "      <td>1.0</td>\n",
       "      <td>2.0</td>\n",
       "      <td>0.0</td>\n",
       "      <td>3.0</td>\n",
       "    </tr>\n",
       "    <tr>\n",
       "      <th>2</th>\n",
       "      <td>1.0</td>\n",
       "      <td>0.246</td>\n",
       "      <td>24.6</td>\n",
       "      <td>0.06</td>\n",
       "      <td>0.006</td>\n",
       "      <td>0.6</td>\n",
       "      <td>1.8</td>\n",
       "      <td>1.8</td>\n",
       "      <td>3.0</td>\n",
       "      <td>1.0</td>\n",
       "      <td>1.0</td>\n",
       "      <td>3.0</td>\n",
       "      <td>0.0</td>\n",
       "      <td>3.0</td>\n",
       "    </tr>\n",
       "    <tr>\n",
       "      <th>3</th>\n",
       "      <td>1.5</td>\n",
       "      <td>0.246</td>\n",
       "      <td>24.6</td>\n",
       "      <td>0.06</td>\n",
       "      <td>0.006</td>\n",
       "      <td>0.6</td>\n",
       "      <td>1.8</td>\n",
       "      <td>1.8</td>\n",
       "      <td>3.0</td>\n",
       "      <td>1.0</td>\n",
       "      <td>1.0</td>\n",
       "      <td>3.0</td>\n",
       "      <td>0.0</td>\n",
       "      <td>2.0</td>\n",
       "    </tr>\n",
       "    <tr>\n",
       "      <th>4</th>\n",
       "      <td>2.0</td>\n",
       "      <td>0.164</td>\n",
       "      <td>24.6</td>\n",
       "      <td>0.04</td>\n",
       "      <td>0.004</td>\n",
       "      <td>0.6</td>\n",
       "      <td>1.2</td>\n",
       "      <td>1.2</td>\n",
       "      <td>2.0</td>\n",
       "      <td>1.0</td>\n",
       "      <td>1.0</td>\n",
       "      <td>2.0</td>\n",
       "      <td>0.0</td>\n",
       "      <td>5.0</td>\n",
       "    </tr>\n",
       "  </tbody>\n",
       "</table>\n",
       "</div>"
      ],
      "text/plain": [
       "   Time   CPU edge average (1)  CPU edge average (2)  CPU server average  \\\n",
       "0    0.0                 0.000                   0.0                0.00   \n",
       "1    0.5                 0.164                  24.6                0.04   \n",
       "2    1.0                 0.246                  24.6                0.06   \n",
       "3    1.5                 0.246                  24.6                0.06   \n",
       "4    2.0                 0.164                  24.6                0.04   \n",
       "\n",
       "   BW edge (1)  BW edge (1).1  BW server (1)  BW server (2)  # edge device  \\\n",
       "0        0.000            0.0            0.0            0.0            0.0   \n",
       "1        0.004            0.6            1.2            1.2            2.0   \n",
       "2        0.006            0.6            1.8            1.8            3.0   \n",
       "3        0.006            0.6            1.8            1.8            3.0   \n",
       "4        0.004            0.6            1.2            1.2            2.0   \n",
       "\n",
       "   # links (1)  # links (2)  # VNF Receive current  # VNF Density future  \\\n",
       "0          0.0          0.0                    0.0                   0.0   \n",
       "1          1.0          1.0                    2.0                   0.0   \n",
       "2          1.0          1.0                    3.0                   0.0   \n",
       "3          1.0          1.0                    3.0                   0.0   \n",
       "4          1.0          1.0                    2.0                   0.0   \n",
       "\n",
       "   # VNF Receive future  \n",
       "0                   2.0  \n",
       "1                   3.0  \n",
       "2                   3.0  \n",
       "3                   2.0  \n",
       "4                   5.0  "
      ]
     },
     "execution_count": 4,
     "metadata": {},
     "output_type": "execute_result"
    }
   ],
   "source": [
    "from sklearn.model_selection import train_test_split\n",
    "X_train, X_test, Y_train, Y_test = train_test_split(\n",
    "    raw_data.drop(columns='# VNF Density current'),\n",
    "    raw_data['# VNF Density current'],\n",
    "    test_size=0.25, random_state=42, shuffle=False)\n",
    "\n",
    "X_train.head()"
   ]
  },
  {
   "cell_type": "code",
   "execution_count": 5,
   "metadata": {},
   "outputs": [
    {
     "data": {
      "text/plain": [
       "tensor([0., 0., 0., 0., 0., 0., 0., 0., 0., 0., 0., 0., 0., 2.])"
      ]
     },
     "execution_count": 5,
     "metadata": {},
     "output_type": "execute_result"
    }
   ],
   "source": [
    "torch.Tensor(X_train.iloc[0].values)"
   ]
  },
  {
   "cell_type": "code",
   "execution_count": 6,
   "metadata": {},
   "outputs": [
    {
     "data": {
      "text/plain": [
       "Index(['Time ', 'CPU edge average (1)', 'CPU edge average (2)',\n",
       "       'CPU server average', 'BW edge (1)', 'BW edge (1).1', 'BW server (1)',\n",
       "       'BW server (2)', '# edge device', '# links (1)', '# links (2)',\n",
       "       '# VNF Receive current', '# VNF Density future',\n",
       "       '# VNF Receive future'],\n",
       "      dtype='object')"
      ]
     },
     "execution_count": 6,
     "metadata": {},
     "output_type": "execute_result"
    }
   ],
   "source": [
    "X_train.columns"
   ]
  },
  {
   "cell_type": "markdown",
   "metadata": {},
   "source": [
    "## Model"
   ]
  },
  {
   "cell_type": "code",
   "execution_count": 7,
   "metadata": {},
   "outputs": [],
   "source": [
    "seq_len = 24"
   ]
  },
  {
   "cell_type": "code",
   "execution_count": 8,
   "metadata": {},
   "outputs": [],
   "source": [
    "from fil_lstm import FILDataset\n",
    "train_dataset = FILDataset(X_train, Y_train, sequence_length=seq_len)\n",
    "test_dataset = FILDataset(X_test, Y_test, sequence_length=seq_len)"
   ]
  },
  {
   "cell_type": "code",
   "execution_count": 9,
   "metadata": {},
   "outputs": [
    {
     "name": "stderr",
     "output_type": "stream",
     "text": [
      "/Users/nghiadanh/miniforge3/envs/tf_m1/lib/python3.8/site-packages/torch/nn/modules/rnn.py:62: UserWarning: dropout option adds dropout after all but last recurrent layer, so non-zero dropout expects num_layers greater than 1, but got dropout=0.5 and num_layers=1\n",
      "  warnings.warn(\"dropout option adds dropout after all but last \"\n"
     ]
    }
   ],
   "source": [
    "from fil_lstm import Model\n",
    "model = Model(input_size=11, hidden_size=100, num_layers=1, dropout=0.5, sequence_length=seq_len)"
   ]
  },
  {
   "cell_type": "code",
   "execution_count": 10,
   "metadata": {},
   "outputs": [
    {
     "name": "stdout",
     "output_type": "stream",
     "text": [
      "Epoch: 0 \t Train loss:  (184.41767514598484, 0.5757260053083348) \t Test loss:  (124.48946522949241, 0.6490337087261171)\n",
      "Epoch: 5 \t Train loss:  (36.38077669712313, 0.9834885489868768) \t Test loss:  (27.43273801037902, 0.9829572951056116)\n",
      "Epoch: 10 \t Train loss:  (21.78681443449512, 0.9940785407002551) \t Test loss:  (18.855194007605785, 0.9919487700911548)\n",
      "Epoch: 15 \t Train loss:  (16.378827528579006, 0.9966533763102567) \t Test loss:  (14.847048358872653, 0.9950079320734245)\n",
      "Epoch: 20 \t Train loss:  (13.945246301488536, 0.9975739839055198) \t Test loss:  (13.864111674726834, 0.9956470435917538)\n",
      "Epoch: 25 \t Train loss:  (11.828139190463746, 0.9982546836013156) \t Test loss:  (12.569669736713015, 0.9964219367672601)\n",
      "Epoch: 30 \t Train loss:  (10.867905681471807, 0.9985265581321378) \t Test loss:  (12.164357284080635, 0.9966489679941489)\n",
      "Epoch: 35 \t Train loss:  (10.434810451802134, 0.998641653877688) \t Test loss:  (11.943169490773862, 0.996769725693952)\n",
      "Epoch: 40 \t Train loss:  (10.085851643829967, 0.9987309859640116) \t Test loss:  (11.764597165222485, 0.9968656001888524)\n",
      "Epoch: 45 \t Train loss:  (9.907912250251886, 0.9987753680748676) \t Test loss:  (11.685321462026556, 0.9969077005457472)\n",
      "Epoch: 50 \t Train loss:  (9.796618785276042, 0.9988027256456267) \t Test loss:  (11.648394271801076, 0.9969272137737389)\n",
      "Epoch: 55 \t Train loss:  (9.74512066159185, 0.9988152800247352) \t Test loss:  (11.62839843953391, 0.9969377544270646)\n",
      "Epoch: 60 \t Train loss:  (9.719770862405953, 0.9988214354479625) \t Test loss:  (11.615258513984081, 0.9969446711281298)\n",
      "Epoch: 65 \t Train loss:  (9.705197418579065, 0.998824967050492) \t Test loss:  (11.60735335274449, 0.9969488282553662)\n",
      "Epoch: 70 \t Train loss:  (9.696852371922116, 0.9988269869319982) \t Test loss:  (11.603527953252582, 0.9969508390541195)\n",
      "Epoch: 75 \t Train loss:  (9.69214503998337, 0.9988281255280157) \t Test loss:  (11.601997834845756, 0.9969516433434)\n",
      "Epoch: 80 \t Train loss:  (9.689407259327547, 0.9988287874882396) \t Test loss:  (11.60130273804311, 0.9969520084948059)\n",
      "Epoch: 85 \t Train loss:  (9.68782722166614, 0.9988291693724963) \t Test loss:  (11.600937088572104, 0.9969522006811518)\n",
      "Epoch: 90 \t Train loss:  (9.686917588969584, 0.9988293891554315) \t Test loss:  (11.600687177627197, 0.9969523318893664)\n",
      "Epoch: 95 \t Train loss:  (9.686486763417946, 0.9988294934526026) \t Test loss:  (11.60061286096558, 0.9969523710123055)\n"
     ]
    }
   ],
   "source": [
    "model.train(train_dataset, test_dataset, epochs=100, batch_size=20, lr=0.001)"
   ]
  },
  {
   "cell_type": "code",
   "execution_count": 11,
   "metadata": {},
   "outputs": [
    {
     "data": {
      "image/png": "[encoded data removed]",
      "text/plain": [
       "<Figure size 432x288 with 1 Axes>"
      ]
     },
     "metadata": {
      "needs_background": "light"
     },
     "output_type": "display_data"
    }
   ],
   "source": [
    "import matplotlib.pyplot as plt\n",
    "import numpy as np\n",
    "plt.plot(np.array(model.losses)[:,0], label='train_loss')\n",
    "plt.plot(np.array(model.losses)[:,1], label='test_loss')\n",
    "plt.legend()\n",
    "plt.show()"
   ]
  },
  {
   "cell_type": "code",
   "execution_count": 12,
   "metadata": {},
   "outputs": [
    {
     "data": {
      "text/plain": [
       "(20, 2)"
      ]
     },
     "execution_count": 12,
     "metadata": {},
     "output_type": "execute_result"
    }
   ],
   "source": [
    "np.array(model.losses).shape"
   ]
  },
  {
   "cell_type": "code",
   "execution_count": 13,
   "metadata": {},
   "outputs": [],
   "source": [
    "# Save as TorchScript\n",
    "x_test = torch.zeros((1,seq_len,11))\n",
    "traced_model = torch.jit.trace(model, (x_test, model.init_state()))\n",
    "traced_model.save('./model/torch_script/model_script_05.zip')"
   ]
  },
  {
   "cell_type": "code",
   "execution_count": 14,
   "metadata": {},
   "outputs": [
    {
     "data": {
      "text/plain": [
       "'def forward(self,\\n    x: Tensor,\\n    prev_state: Tuple[Tensor, Tensor]) -> Tuple[Tensor, Tuple[Tensor, Tensor]]:\\n  relu = self.relu\\n  fc = self.fc\\n  relu1 = self.relu1\\n  fc1 = self.fc1\\n  lstm = self.lstm\\n  hx, hx0, = prev_state\\n  _0, _1, _2, = (lstm).forward(x, hx, hx0, )\\n  _3 = (relu1).forward((fc1).forward(_0, ), )\\n  _4 = torch.slice((relu).forward((fc).forward(_3, ), ), 0, 0, 9223372036854775807)\\n  _5 = torch.slice(torch.select(_4, 1, -1), 1, 0, 9223372036854775807)\\n  return (_5, (_1, _2))\\n'"
      ]
     },
     "execution_count": 14,
     "metadata": {},
     "output_type": "execute_result"
    }
   ],
   "source": [
    "traced_model.code"
   ]
  },
  {
   "cell_type": "code",
   "execution_count": 15,
   "metadata": {},
   "outputs": [],
   "source": [
    "# torch.save(model.state_dict(), './model/best_05')\n",
    "# torch.save(model, './model/best_05_full')"
   ]
  },
  {
   "cell_type": "code",
   "execution_count": 16,
   "metadata": {},
   "outputs": [],
   "source": [
    "loaded_model = torch.load('./model/best_05_full')"
   ]
  },
  {
   "cell_type": "code",
   "execution_count": 17,
   "metadata": {},
   "outputs": [
    {
     "data": {
      "text/plain": [
       "(10.163778759971146, 0.9987113003703165)"
      ]
     },
     "execution_count": 17,
     "metadata": {},
     "output_type": "execute_result"
    }
   ],
   "source": [
    "loaded_model.evaluate(train_dataset, batch_size=len(X_train))"
   ]
  },
  {
   "cell_type": "code",
   "execution_count": 18,
   "metadata": {},
   "outputs": [
    {
     "data": {
      "text/plain": [
       "(11.683289447725581, 0.9969087759511228)"
      ]
     },
     "execution_count": 18,
     "metadata": {},
     "output_type": "execute_result"
    }
   ],
   "source": [
    "loaded_model.evaluate(test_dataset, batch_size=len(X_test))"
   ]
  },
  {
   "cell_type": "code",
   "execution_count": null,
   "metadata": {},
   "outputs": [],
   "source": []
  }
 ],
 "metadata": {
  "interpreter": {
   "hash": "d22b36ba7308b57d7071dbf0821a724f1e8bebca6caf90a2aaed5b366d8a6926"
  },
  "kernelspec": {
   "display_name": "Python 3.8.10 ('tf_m1')",
   "language": "python",
   "name": "python3"
  },
  "language_info": {
   "codemirror_mode": {
    "name": "ipython",
    "version": 3
   },
   "file_extension": ".py",
   "mimetype": "text/x-python",
   "name": "python",
   "nbconvert_exporter": "python",
   "pygments_lexer": "ipython3",
   "version": "3.8.10"
  },
  "orig_nbformat": 4
 },
 "nbformat": 4,
 "nbformat_minor": 2
}
