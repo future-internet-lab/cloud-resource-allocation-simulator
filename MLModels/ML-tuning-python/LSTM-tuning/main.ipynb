{
 "cells": [
  {
   "cell_type": "code",
   "execution_count": 11,
   "metadata": {},
   "outputs": [
    {
     "name": "stdout",
     "output_type": "stream",
     "text": [
      "The autoreload extension is already loaded. To reload it, use:\n",
      "  %reload_ext autoreload\n"
     ]
    }
   ],
   "source": [
    "%load_ext autoreload\n",
    "%autoreload 2"
   ]
  },
  {
   "cell_type": "markdown",
   "metadata": {},
   "source": [
    "## Read data"
   ]
  },
  {
   "cell_type": "code",
   "execution_count": 12,
   "metadata": {},
   "outputs": [],
   "source": [
    "import pandas as pd\n",
    "import torch"
   ]
  },
  {
   "cell_type": "code",
   "execution_count": 13,
   "metadata": {},
   "outputs": [
    {
     "data": {
      "text/html": [
       "<div>\n",
       "<style scoped>\n",
       "    .dataframe tbody tr th:only-of-type {\n",
       "        vertical-align: middle;\n",
       "    }\n",
       "\n",
       "    .dataframe tbody tr th {\n",
       "        vertical-align: top;\n",
       "    }\n",
       "\n",
       "    .dataframe thead th {\n",
       "        text-align: right;\n",
       "    }\n",
       "</style>\n",
       "<table border=\"1\" class=\"dataframe\">\n",
       "  <thead>\n",
       "    <tr style=\"text-align: right;\">\n",
       "      <th></th>\n",
       "      <th>Time</th>\n",
       "      <th>CPU edge average (1)</th>\n",
       "      <th>CPU edge average (2)</th>\n",
       "      <th>CPU server average</th>\n",
       "      <th>BW edge (1)</th>\n",
       "      <th>BW edge (1).1</th>\n",
       "      <th>BW server (1)</th>\n",
       "      <th>BW server (2)</th>\n",
       "      <th># edge device</th>\n",
       "      <th># links (1)</th>\n",
       "      <th># links (2)</th>\n",
       "      <th># VNF Density current</th>\n",
       "      <th># VNF Receive current</th>\n",
       "      <th># VNF Density future</th>\n",
       "      <th># VNF Receive future</th>\n",
       "    </tr>\n",
       "  </thead>\n",
       "  <tbody>\n",
       "    <tr>\n",
       "      <th>0</th>\n",
       "      <td>0.0</td>\n",
       "      <td>0.000</td>\n",
       "      <td>0.0</td>\n",
       "      <td>0.00</td>\n",
       "      <td>0.000</td>\n",
       "      <td>0.0</td>\n",
       "      <td>0.0</td>\n",
       "      <td>0.0</td>\n",
       "      <td>0.0</td>\n",
       "      <td>0.0</td>\n",
       "      <td>0.0</td>\n",
       "      <td>0.0</td>\n",
       "      <td>0.0</td>\n",
       "      <td>0.0</td>\n",
       "      <td>3.0</td>\n",
       "    </tr>\n",
       "    <tr>\n",
       "      <th>1</th>\n",
       "      <td>1.0</td>\n",
       "      <td>0.246</td>\n",
       "      <td>36.9</td>\n",
       "      <td>0.06</td>\n",
       "      <td>0.006</td>\n",
       "      <td>0.9</td>\n",
       "      <td>1.8</td>\n",
       "      <td>1.8</td>\n",
       "      <td>2.0</td>\n",
       "      <td>1.0</td>\n",
       "      <td>1.0</td>\n",
       "      <td>0.0</td>\n",
       "      <td>3.0</td>\n",
       "      <td>0.0</td>\n",
       "      <td>9.0</td>\n",
       "    </tr>\n",
       "    <tr>\n",
       "      <th>2</th>\n",
       "      <td>2.0</td>\n",
       "      <td>0.738</td>\n",
       "      <td>24.6</td>\n",
       "      <td>0.18</td>\n",
       "      <td>0.018</td>\n",
       "      <td>0.6</td>\n",
       "      <td>5.4</td>\n",
       "      <td>5.4</td>\n",
       "      <td>9.0</td>\n",
       "      <td>1.0</td>\n",
       "      <td>1.0</td>\n",
       "      <td>0.0</td>\n",
       "      <td>9.0</td>\n",
       "      <td>0.0</td>\n",
       "      <td>10.0</td>\n",
       "    </tr>\n",
       "    <tr>\n",
       "      <th>3</th>\n",
       "      <td>3.0</td>\n",
       "      <td>0.820</td>\n",
       "      <td>24.6</td>\n",
       "      <td>0.20</td>\n",
       "      <td>0.020</td>\n",
       "      <td>0.6</td>\n",
       "      <td>6.0</td>\n",
       "      <td>6.0</td>\n",
       "      <td>10.0</td>\n",
       "      <td>1.0</td>\n",
       "      <td>1.0</td>\n",
       "      <td>0.0</td>\n",
       "      <td>10.0</td>\n",
       "      <td>0.0</td>\n",
       "      <td>14.0</td>\n",
       "    </tr>\n",
       "    <tr>\n",
       "      <th>4</th>\n",
       "      <td>4.0</td>\n",
       "      <td>1.148</td>\n",
       "      <td>24.6</td>\n",
       "      <td>0.28</td>\n",
       "      <td>0.028</td>\n",
       "      <td>0.6</td>\n",
       "      <td>8.4</td>\n",
       "      <td>8.4</td>\n",
       "      <td>14.0</td>\n",
       "      <td>1.0</td>\n",
       "      <td>1.0</td>\n",
       "      <td>0.0</td>\n",
       "      <td>14.0</td>\n",
       "      <td>0.0</td>\n",
       "      <td>10.0</td>\n",
       "    </tr>\n",
       "  </tbody>\n",
       "</table>\n",
       "</div>"
      ],
      "text/plain": [
       "   Time   CPU edge average (1)  CPU edge average (2)  CPU server average  \\\n",
       "0    0.0                 0.000                   0.0                0.00   \n",
       "1    1.0                 0.246                  36.9                0.06   \n",
       "2    2.0                 0.738                  24.6                0.18   \n",
       "3    3.0                 0.820                  24.6                0.20   \n",
       "4    4.0                 1.148                  24.6                0.28   \n",
       "\n",
       "   BW edge (1)  BW edge (1).1  BW server (1)  BW server (2)  # edge device  \\\n",
       "0        0.000            0.0            0.0            0.0            0.0   \n",
       "1        0.006            0.9            1.8            1.8            2.0   \n",
       "2        0.018            0.6            5.4            5.4            9.0   \n",
       "3        0.020            0.6            6.0            6.0           10.0   \n",
       "4        0.028            0.6            8.4            8.4           14.0   \n",
       "\n",
       "   # links (1)  # links (2)  # VNF Density current  # VNF Receive current  \\\n",
       "0          0.0          0.0                    0.0                    0.0   \n",
       "1          1.0          1.0                    0.0                    3.0   \n",
       "2          1.0          1.0                    0.0                    9.0   \n",
       "3          1.0          1.0                    0.0                   10.0   \n",
       "4          1.0          1.0                    0.0                   14.0   \n",
       "\n",
       "   # VNF Density future  # VNF Receive future  \n",
       "0                   0.0                   3.0  \n",
       "1                   0.0                   9.0  \n",
       "2                   0.0                  10.0  \n",
       "3                   0.0                  14.0  \n",
       "4                   0.0                  10.0  "
      ]
     },
     "execution_count": 13,
     "metadata": {},
     "output_type": "execute_result"
    }
   ],
   "source": [
    "raw_data = pd.read_excel('./data/24h-1-new.xlsx')\n",
    "raw_data.head()"
   ]
  },
  {
   "cell_type": "code",
   "execution_count": 14,
   "metadata": {},
   "outputs": [
    {
     "data": {
      "text/html": [
       "<div>\n",
       "<style scoped>\n",
       "    .dataframe tbody tr th:only-of-type {\n",
       "        vertical-align: middle;\n",
       "    }\n",
       "\n",
       "    .dataframe tbody tr th {\n",
       "        vertical-align: top;\n",
       "    }\n",
       "\n",
       "    .dataframe thead th {\n",
       "        text-align: right;\n",
       "    }\n",
       "</style>\n",
       "<table border=\"1\" class=\"dataframe\">\n",
       "  <thead>\n",
       "    <tr style=\"text-align: right;\">\n",
       "      <th></th>\n",
       "      <th>Time</th>\n",
       "      <th>CPU edge average (1)</th>\n",
       "      <th>CPU edge average (2)</th>\n",
       "      <th>CPU server average</th>\n",
       "      <th>BW edge (1)</th>\n",
       "      <th>BW edge (1).1</th>\n",
       "      <th>BW server (1)</th>\n",
       "      <th>BW server (2)</th>\n",
       "      <th># edge device</th>\n",
       "      <th># links (1)</th>\n",
       "      <th># links (2)</th>\n",
       "      <th># VNF Receive current</th>\n",
       "      <th># VNF Density future</th>\n",
       "      <th># VNF Receive future</th>\n",
       "    </tr>\n",
       "  </thead>\n",
       "  <tbody>\n",
       "    <tr>\n",
       "      <th>0</th>\n",
       "      <td>0.0</td>\n",
       "      <td>0.000</td>\n",
       "      <td>0.0</td>\n",
       "      <td>0.00</td>\n",
       "      <td>0.000</td>\n",
       "      <td>0.0</td>\n",
       "      <td>0.0</td>\n",
       "      <td>0.0</td>\n",
       "      <td>0.0</td>\n",
       "      <td>0.0</td>\n",
       "      <td>0.0</td>\n",
       "      <td>0.0</td>\n",
       "      <td>0.0</td>\n",
       "      <td>3.0</td>\n",
       "    </tr>\n",
       "    <tr>\n",
       "      <th>1</th>\n",
       "      <td>1.0</td>\n",
       "      <td>0.246</td>\n",
       "      <td>36.9</td>\n",
       "      <td>0.06</td>\n",
       "      <td>0.006</td>\n",
       "      <td>0.9</td>\n",
       "      <td>1.8</td>\n",
       "      <td>1.8</td>\n",
       "      <td>2.0</td>\n",
       "      <td>1.0</td>\n",
       "      <td>1.0</td>\n",
       "      <td>3.0</td>\n",
       "      <td>0.0</td>\n",
       "      <td>9.0</td>\n",
       "    </tr>\n",
       "    <tr>\n",
       "      <th>2</th>\n",
       "      <td>2.0</td>\n",
       "      <td>0.738</td>\n",
       "      <td>24.6</td>\n",
       "      <td>0.18</td>\n",
       "      <td>0.018</td>\n",
       "      <td>0.6</td>\n",
       "      <td>5.4</td>\n",
       "      <td>5.4</td>\n",
       "      <td>9.0</td>\n",
       "      <td>1.0</td>\n",
       "      <td>1.0</td>\n",
       "      <td>9.0</td>\n",
       "      <td>0.0</td>\n",
       "      <td>10.0</td>\n",
       "    </tr>\n",
       "    <tr>\n",
       "      <th>3</th>\n",
       "      <td>3.0</td>\n",
       "      <td>0.820</td>\n",
       "      <td>24.6</td>\n",
       "      <td>0.20</td>\n",
       "      <td>0.020</td>\n",
       "      <td>0.6</td>\n",
       "      <td>6.0</td>\n",
       "      <td>6.0</td>\n",
       "      <td>10.0</td>\n",
       "      <td>1.0</td>\n",
       "      <td>1.0</td>\n",
       "      <td>10.0</td>\n",
       "      <td>0.0</td>\n",
       "      <td>14.0</td>\n",
       "    </tr>\n",
       "    <tr>\n",
       "      <th>4</th>\n",
       "      <td>4.0</td>\n",
       "      <td>1.148</td>\n",
       "      <td>24.6</td>\n",
       "      <td>0.28</td>\n",
       "      <td>0.028</td>\n",
       "      <td>0.6</td>\n",
       "      <td>8.4</td>\n",
       "      <td>8.4</td>\n",
       "      <td>14.0</td>\n",
       "      <td>1.0</td>\n",
       "      <td>1.0</td>\n",
       "      <td>14.0</td>\n",
       "      <td>0.0</td>\n",
       "      <td>10.0</td>\n",
       "    </tr>\n",
       "  </tbody>\n",
       "</table>\n",
       "</div>"
      ],
      "text/plain": [
       "   Time   CPU edge average (1)  CPU edge average (2)  CPU server average  \\\n",
       "0    0.0                 0.000                   0.0                0.00   \n",
       "1    1.0                 0.246                  36.9                0.06   \n",
       "2    2.0                 0.738                  24.6                0.18   \n",
       "3    3.0                 0.820                  24.6                0.20   \n",
       "4    4.0                 1.148                  24.6                0.28   \n",
       "\n",
       "   BW edge (1)  BW edge (1).1  BW server (1)  BW server (2)  # edge device  \\\n",
       "0        0.000            0.0            0.0            0.0            0.0   \n",
       "1        0.006            0.9            1.8            1.8            2.0   \n",
       "2        0.018            0.6            5.4            5.4            9.0   \n",
       "3        0.020            0.6            6.0            6.0           10.0   \n",
       "4        0.028            0.6            8.4            8.4           14.0   \n",
       "\n",
       "   # links (1)  # links (2)  # VNF Receive current  # VNF Density future  \\\n",
       "0          0.0          0.0                    0.0                   0.0   \n",
       "1          1.0          1.0                    3.0                   0.0   \n",
       "2          1.0          1.0                    9.0                   0.0   \n",
       "3          1.0          1.0                   10.0                   0.0   \n",
       "4          1.0          1.0                   14.0                   0.0   \n",
       "\n",
       "   # VNF Receive future  \n",
       "0                   3.0  \n",
       "1                   9.0  \n",
       "2                  10.0  \n",
       "3                  14.0  \n",
       "4                  10.0  "
      ]
     },
     "execution_count": 14,
     "metadata": {},
     "output_type": "execute_result"
    }
   ],
   "source": [
    "from sklearn.model_selection import train_test_split\n",
    "X_train, X_test, Y_train, Y_test = train_test_split(\n",
    "    raw_data.drop(columns='# VNF Density current'),\n",
    "    raw_data['# VNF Density current'],\n",
    "    test_size=0.25, random_state=42, shuffle=False)\n",
    "\n",
    "X_train.head()"
   ]
  },
  {
   "cell_type": "code",
   "execution_count": 15,
   "metadata": {},
   "outputs": [
    {
     "data": {
      "text/plain": [
       "tensor([0., 0., 0., 0., 0., 0., 0., 0., 0., 0., 0., 0., 0., 3.])"
      ]
     },
     "execution_count": 15,
     "metadata": {},
     "output_type": "execute_result"
    }
   ],
   "source": [
    "torch.Tensor(X_train.iloc[0].values)"
   ]
  },
  {
   "cell_type": "code",
   "execution_count": 16,
   "metadata": {},
   "outputs": [
    {
     "data": {
      "text/plain": [
       "Index(['Time ', 'CPU edge average (1)', 'CPU edge average (2)',\n",
       "       'CPU server average', 'BW edge (1)', 'BW edge (1).1', 'BW server (1)',\n",
       "       'BW server (2)', '# edge device', '# links (1)', '# links (2)',\n",
       "       '# VNF Receive current', '# VNF Density future',\n",
       "       '# VNF Receive future'],\n",
       "      dtype='object')"
      ]
     },
     "execution_count": 16,
     "metadata": {},
     "output_type": "execute_result"
    }
   ],
   "source": [
    "X_train.columns"
   ]
  },
  {
   "cell_type": "markdown",
   "metadata": {},
   "source": [
    "## Model"
   ]
  },
  {
   "cell_type": "code",
   "execution_count": 17,
   "metadata": {},
   "outputs": [],
   "source": [
    "seq_len = 24"
   ]
  },
  {
   "cell_type": "code",
   "execution_count": 18,
   "metadata": {},
   "outputs": [],
   "source": [
    "from fil_lstm import FILDataset\n",
    "train_dataset = FILDataset(X_train, Y_train, sequence_length=seq_len)\n",
    "test_dataset = FILDataset(X_test, Y_test, sequence_length=seq_len)"
   ]
  },
  {
   "cell_type": "code",
   "execution_count": 19,
   "metadata": {},
   "outputs": [
    {
     "name": "stderr",
     "output_type": "stream",
     "text": [
      "/Users/nghiadanh/miniforge3/envs/tf_m1/lib/python3.8/site-packages/torch/nn/modules/rnn.py:62: UserWarning: dropout option adds dropout after all but last recurrent layer, so non-zero dropout expects num_layers greater than 1, but got dropout=0.5 and num_layers=1\n",
      "  warnings.warn(\"dropout option adds dropout after all but last \"\n"
     ]
    }
   ],
   "source": [
    "from fil_lstm import Model\n",
    "model = Model(input_size=11, hidden_size=64, num_layers=1, dropout=0.5, sequence_length=seq_len)"
   ]
  },
  {
   "cell_type": "code",
   "execution_count": 20,
   "metadata": {},
   "outputs": [
    {
     "name": "stdout",
     "output_type": "stream",
     "text": [
      "Epoch: 0 \t Train loss:  (610.8677485757453, -0.48884838776891937) \t Test loss:  (667.5381777471607, -0.582482546055741)\n",
      "Epoch: 5 \t Train loss:  (151.98998990476315, 0.9078307539532838) \t Test loss:  (170.35034556576338, 0.8969441328882386)\n",
      "Epoch: 10 \t Train loss:  (45.57641355631496, 0.9917122554890802) \t Test loss:  (74.42518330616493, 0.9803289989295628)\n",
      "Epoch: 15 \t Train loss:  (31.554485368565274, 0.9960273684107336) \t Test loss:  (47.38620981740758, 0.992025735296198)\n",
      "Epoch: 20 \t Train loss:  (23.36289950417515, 0.9978222424255764) \t Test loss:  (30.90453973402411, 0.9966081919879232)\n",
      "Epoch: 25 \t Train loss:  (19.10713029155649, 0.9985433775061985) \t Test loss:  (29.821636727212738, 0.9968417270420518)\n",
      "Epoch: 30 \t Train loss:  (17.40376984546694, 0.9987915108969334) \t Test loss:  (26.989541748046246, 0.9974131115322968)\n",
      "Epoch: 35 \t Train loss:  (16.249385880823503, 0.9989465110943143) \t Test loss:  (25.70060540462155, 0.9976542948819569)\n",
      "Epoch: 40 \t Train loss:  (15.49042239692502, 0.9990426239017537) \t Test loss:  (24.59700333866277, 0.9978514221637399)\n",
      "Epoch: 45 \t Train loss:  (15.136884575704578, 0.999085825459789) \t Test loss:  (23.812043753831276, 0.9979863681945016)\n",
      "Epoch: 50 \t Train loss:  (15.018603677469436, 0.9991000565875341) \t Test loss:  (23.15493206438425, 0.9980959703241404)\n",
      "Epoch: 55 \t Train loss:  (14.951157459374175, 0.9991081214427519) \t Test loss:  (22.992076006355564, 0.9981226595475842)\n",
      "Epoch: 60 \t Train loss:  (14.911077265567588, 0.9991128968252136) \t Test loss:  (22.98142454295289, 0.9981243983910011)\n",
      "Epoch: 65 \t Train loss:  (14.889811346474264, 0.9991154254089293) \t Test loss:  (22.97727706301312, 0.9981250752236799)\n",
      "Epoch: 70 \t Train loss:  (14.87822476862159, 0.9991168015149348) \t Test loss:  (22.971919955574293, 0.9981259495546231)\n",
      "Epoch: 75 \t Train loss:  (14.871730926065892, 0.9991175722802789) \t Test loss:  (22.96755550678024, 0.9981266615817997)\n",
      "Epoch: 80 \t Train loss:  (14.868024456702955, 0.9991180121508271) \t Test loss:  (22.96414707280133, 0.9981272175273933)\n",
      "Epoch: 85 \t Train loss:  (14.865804955750693, 0.999118275373734) \t Test loss:  (22.96126180019363, 0.9981276879938636)\n",
      "Epoch: 90 \t Train loss:  (14.864549058938382, 0.9991184243963852) \t Test loss:  (22.959553856319815, 0.9981279666190769)\n",
      "Epoch: 95 \t Train loss:  (14.86392646020738, 0.9991184982837648) \t Test loss:  (22.959713358402364, 0.9981279407091369)\n"
     ]
    }
   ],
   "source": [
    "model.train(train_dataset, test_dataset, epochs=100, batch_size=20, lr=0.001)"
   ]
  },
  {
   "cell_type": "code",
   "execution_count": 21,
   "metadata": {},
   "outputs": [
    {
     "data": {
      "image/png": "[encoded data removed]",
      "text/plain": [
       "<Figure size 432x288 with 1 Axes>"
      ]
     },
     "metadata": {
      "needs_background": "light"
     },
     "output_type": "display_data"
    }
   ],
   "source": [
    "import matplotlib.pyplot as plt\n",
    "import numpy as np\n",
    "plt.plot(np.array(model.losses)[:,0], label='train_loss')\n",
    "plt.plot(np.array(model.losses)[:,1], label='test_loss')\n",
    "plt.legend()\n",
    "plt.show()"
   ]
  },
  {
   "cell_type": "code",
   "execution_count": 22,
   "metadata": {},
   "outputs": [
    {
     "data": {
      "text/plain": [
       "(20, 2)"
      ]
     },
     "execution_count": 22,
     "metadata": {},
     "output_type": "execute_result"
    }
   ],
   "source": [
    "np.array(model.losses).shape"
   ]
  },
  {
   "cell_type": "code",
   "execution_count": 25,
   "metadata": {},
   "outputs": [],
   "source": [
    "# Save as TorchScript\n",
    "# x_test = torch.zeros((1,seq_len,11))\n",
    "# traced_model = torch.jit.trace(model, (x_test, model.init_state()))\n",
    "# traced_model.save('./model/torch_script/model_script_1.zip')"
   ]
  },
  {
   "cell_type": "code",
   "execution_count": 27,
   "metadata": {},
   "outputs": [
    {
     "data": {
      "text/plain": [
       "'def forward(self,\\n    x: Tensor,\\n    prev_state: Tuple[Tensor, Tensor]) -> Tuple[Tensor, Tuple[Tensor, Tensor]]:\\n  relu = self.relu\\n  fc = self.fc\\n  relu1 = self.relu1\\n  fc1 = self.fc1\\n  lstm = self.lstm\\n  hx, hx0, = prev_state\\n  _0, _1, _2, = (lstm).forward(x, hx, hx0, )\\n  _3 = (relu1).forward((fc1).forward(_0, ), )\\n  _4 = torch.slice((relu).forward((fc).forward(_3, ), ), 0, 0, 9223372036854775807)\\n  _5 = torch.slice(torch.select(_4, 1, -1), 1, 0, 9223372036854775807)\\n  return (_5, (_1, _2))\\n'"
      ]
     },
     "execution_count": 27,
     "metadata": {},
     "output_type": "execute_result"
    }
   ],
   "source": [
    "# traced_model.code"
   ]
  },
  {
   "cell_type": "code",
   "execution_count": 20,
   "metadata": {},
   "outputs": [],
   "source": [
    "# torch.save(model.state_dict(), './model/best_1')\n",
    "# torch.save(model, './model/best_1_full')"
   ]
  },
  {
   "cell_type": "code",
   "execution_count": 21,
   "metadata": {},
   "outputs": [],
   "source": [
    "loaded_model = torch.load('./model/best_1_full')"
   ]
  },
  {
   "cell_type": "code",
   "execution_count": 22,
   "metadata": {},
   "outputs": [
    {
     "data": {
      "text/plain": [
       "(16.77397330449533, 0.9988773924033071)"
      ]
     },
     "execution_count": 22,
     "metadata": {},
     "output_type": "execute_result"
    }
   ],
   "source": [
    "loaded_model.evaluate(train_dataset, batch_size=len(X_train))"
   ]
  },
  {
   "cell_type": "code",
   "execution_count": 23,
   "metadata": {},
   "outputs": [
    {
     "data": {
      "text/plain": [
       "(22.270888221133056, 0.9982385847189987)"
      ]
     },
     "execution_count": 23,
     "metadata": {},
     "output_type": "execute_result"
    }
   ],
   "source": [
    "loaded_model.evaluate(test_dataset, batch_size=len(X_test))"
   ]
  },
  {
   "cell_type": "code",
   "execution_count": null,
   "metadata": {},
   "outputs": [],
   "source": []
  }
 ],
 "metadata": {
  "interpreter": {
   "hash": "d22b36ba7308b57d7071dbf0821a724f1e8bebca6caf90a2aaed5b366d8a6926"
  },
  "kernelspec": {
   "display_name": "Python 3.8.10 ('tf_m1')",
   "language": "python",
   "name": "python3"
  },
  "language_info": {
   "codemirror_mode": {
    "name": "ipython",
    "version": 3
   },
   "file_extension": ".py",
   "mimetype": "text/x-python",
   "name": "python",
   "nbconvert_exporter": "python",
   "pygments_lexer": "ipython3",
   "version": "3.8.10"
  },
  "orig_nbformat": 4
 },
 "nbformat": 4,
 "nbformat_minor": 2
}
